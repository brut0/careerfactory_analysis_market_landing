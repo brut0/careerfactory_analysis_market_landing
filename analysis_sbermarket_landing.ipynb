{
 "cells": [
  {
   "cell_type": "markdown",
   "id": "moving-hunter",
   "metadata": {},
   "source": [
    "# Анализ эксперимента лендинга Сбермаркета\n",
    "**Задание аналитика в [Карьерный цех](https://analytics.careerfactory.ru/)**"
   ]
  },
  {
   "cell_type": "markdown",
   "id": "tracked-summary",
   "metadata": {},
   "source": [
    "## Описание\n",
    "\n",
    "На текущем варианте лендинга пользователь сначала выбирает ритейлера, переходит в каталог, ищет нужные ему товары и только потом может узнать, что по его адресу выбранного магазина может не оказаться. Проведён эксперимент (A/B тестирование) с двумя вариантами лендинга.\n",
    "\n",
    "**Исходные данные:**\n",
    "\n",
    "Данные состоят из файлов, полученных из разных источников:\n",
    "\n",
    "- `AB Test Hit.csv` — пользователи и распределение по группам эксперимента;\n",
    "- `Landing Viewed.csv` — время захода пользователя на лэндинг;\n",
    "- `Main Page Viewed.csv` — время захода на страницу ретейлера;\n",
    "- `Address Change Initiated.csv` — время открытия модалки ввода адреса;\n",
    "- `Address Not In Delivery Zone.csv` — время получения сообщения \"Адрес вне зоны доставки\";\n",
    "- `Shop Celection Started.csv` — время открытия модалки выбора магазина;\n",
    "- `Shop Selected.csv` — время успешного выбора магазина;\n",
    "- `Product Added.csv` — время фактического добавления товара в корзину;\n",
    "- `Add To Cart Clicked.csv` — время попытки (клика) добавления товара в корзину;\n",
    "- `Order Completed.csv` — время оформления заказа.\n",
    "\n",
    "**Цели:**\n",
    "- проанализировать дизайн эксперимента и предложить идеи для улучшения. Необходимо проверить гипотезу, что выбор адреса до этапа выбора магазина поможет избежать “кривых” сценариев без повышения отказов с самого лендинга;\n",
    "- по метрикам bounce rate лендинга (в тестовых группах он не должен стат значимо вырасти) и конверсии добавления товара в корзину принять решение какой вариант лендинга лучше.\n",
    "\n",
    "_bounce rate - это термин веб-аналитики, обозначающий процентное соотношение количества посетителей покинувших сайт или лендинг прямо со страницы входа или просмотревших не более одной страницы сайта._"
   ]
  },
  {
   "cell_type": "markdown",
   "id": "round-steam",
   "metadata": {},
   "source": [
    "### Структура проекта\n",
    "* [1. Загрузка и изучение общей информации датасета](#start)\n",
    "* [2. Предобработка данных](#preprocessing)\n",
    "* [3. Исследовательский анализ данных](#eda)\n",
    "* [4. Расчёт метрик (bounce rate лендинга и конверсию)](#metric)\n",
    "* [5. Диагностика дизайна эксперимента](#experiment)\n",
    "* [6. Выводы](#conclusion)"
   ]
  },
  {
   "cell_type": "markdown",
   "id": "blond-butterfly",
   "metadata": {},
   "source": [
    "<a id=\"start\"></a>\n",
    "## 1. Загрузка и изучение общей информации датасета"
   ]
  },
  {
   "cell_type": "markdown",
   "id": "joint-chart",
   "metadata": {},
   "source": [
    "### Импортируем необходимые библиотеки"
   ]
  },
  {
   "cell_type": "code",
   "execution_count": 1,
   "id": "yellow-cannon",
   "metadata": {},
   "outputs": [
    {
     "name": "stdout",
     "output_type": "stream",
     "text": [
      "Pandas version: 1.2.4\n",
      "Seaborn version: 0.11.1\n"
     ]
    }
   ],
   "source": [
    "import re\n",
    "import math\n",
    "from IPython.display import display\n",
    "import pandas as pd\n",
    "import numpy as np\n",
    "import matplotlib.pyplot as plt\n",
    "import seaborn as sns\n",
    "\n",
    "print(f\"Pandas version: {pd.__version__}\")\n",
    "print(f\"Seaborn version: {sns.__version__}\")"
   ]
  },
  {
   "cell_type": "markdown",
   "id": "least-nightlife",
   "metadata": {},
   "source": [
    "### Загрузим данные"
   ]
  },
  {
   "cell_type": "code",
   "execution_count": 2,
   "id": "equipped-granny",
   "metadata": {},
   "outputs": [
    {
     "name": "stdout",
     "output_type": "stream",
     "text": [
      "./dataset/\n"
     ]
    }
   ],
   "source": [
    "# input path of datasets\n",
    "PATH = input()"
   ]
  },
  {
   "cell_type": "code",
   "execution_count": 3,
   "id": "monthly-attribute",
   "metadata": {},
   "outputs": [
    {
     "name": "stdout",
     "output_type": "stream",
     "text": [
      "Dataset has successfully read\n"
     ]
    }
   ],
   "source": [
    "list_df = []\n",
    "dataset_ab_test  = 'AB Test Hit.csv'\n",
    "dataset_landing = 'Landing Viewed.csv'\n",
    "dataset_mainpage = 'Main Page Viewed.csv'\n",
    "dataset_address_change = 'Address Change Initiated.csv'\n",
    "dataset_delivery_zone = 'Address Not In Delivery Zone.csv'\n",
    "dataset_shop_started = 'Shop Celection Started.csv'\n",
    "dataset_shop_selected = 'Shop Selected.csv'\n",
    "dataset_product = 'Product Added.csv'\n",
    "dataset_cart = 'Add To Cart Clicked.csv'\n",
    "dataset_order = 'Order Completed.csv'\n",
    "\n",
    "try:\n",
    "    df_ab_test = pd.read_csv(f'{PATH}{dataset_ab_test}', sep=',')\n",
    "    df_landing = pd.read_csv(f'{PATH}{dataset_landing}', sep=',')\n",
    "    df_mainpage = pd.read_csv(f'{PATH}{dataset_mainpage}', sep=',')\n",
    "    df_address_change = pd.read_csv(f'{PATH}{dataset_address_change}', sep=',')\n",
    "    df_delivery_zone = pd.read_csv(f'{PATH}{dataset_delivery_zone}', sep=',')\n",
    "    df_shop_started = pd.read_csv(f'{PATH}{dataset_shop_started}', sep=',')\n",
    "    df_shop_selected = pd.read_csv(f'{PATH}{dataset_shop_selected}', sep=',')\n",
    "    df_product = pd.read_csv(f'{PATH}{dataset_product}', sep=',')\n",
    "    df_cart = pd.read_csv(f'{PATH}{dataset_cart}', sep=',')\n",
    "    df_order = pd.read_csv(f'{PATH}{dataset_order}', sep=',')\n",
    "    print('Dataset has successfully read')\n",
    "    list_df.extend([df_ab_test, df_landing, df_mainpage, df_address_change, df_delivery_zone,\n",
    "                    df_shop_started, df_shop_selected, df_product, df_cart, df_order])\n",
    "except Exception as err:\n",
    "    print(err)"
   ]
  },
  {
   "cell_type": "code",
   "execution_count": 4,
   "id": "coupled-steam",
   "metadata": {},
   "outputs": [],
   "source": [
    "df_descriptions = {\n",
    "    'df_ab_test': 'AB Test Hit',\n",
    "    'df_landing': 'Landing Viewed',\n",
    "    'df_mainpage':'Main Page Viewed',\n",
    "    'df_address_change': 'Address Change Initiated',\n",
    "    'df_delivery_zone': 'Address Not In Delivery Zone',\n",
    "    'df_shop_started': 'Shop Celection Started',\n",
    "    'df_shop_selected': 'Shop Selected',\n",
    "    'df_product': 'Product Added',\n",
    "    'df_cart': 'Add To Cart Clicked',\n",
    "    'df_order': 'Order Completed'\n",
    "}\n",
    "\n",
    "# Get name of dataframe\n",
    "def get_df_name(df):\n",
    "    name =[x for x in globals() if globals()[x] is df][0]\n",
    "    return name"
   ]
  },
  {
   "cell_type": "code",
   "execution_count": 5,
   "id": "assured-lodge",
   "metadata": {},
   "outputs": [
    {
     "name": "stdout",
     "output_type": "stream",
     "text": [
      "df_ab_test\n",
      "<class 'pandas.core.frame.DataFrame'>\n",
      "RangeIndex: 502784 entries, 0 to 502783\n",
      "Data columns (total 6 columns):\n",
      " #   Column        Non-Null Count   Dtype \n",
      "---  ------        --------------   ----- \n",
      " 0   hit_at        502784 non-null  object\n",
      " 1   anonymous_id  502784 non-null  object\n",
      " 2   group         502784 non-null  object\n",
      " 3   device_type   502784 non-null  object\n",
      " 4   browser       502784 non-null  object\n",
      " 5   os            502783 non-null  object\n",
      "dtypes: object(6)\n",
      "memory usage: 23.0+ MB\n"
     ]
    },
    {
     "data": {
      "text/plain": [
       "None"
      ]
     },
     "metadata": {},
     "output_type": "display_data"
    },
    {
     "name": "stdout",
     "output_type": "stream",
     "text": [
      "df_landing\n",
      "<class 'pandas.core.frame.DataFrame'>\n",
      "RangeIndex: 341481 entries, 0 to 341480\n",
      "Data columns (total 2 columns):\n",
      " #   Column        Non-Null Count   Dtype \n",
      "---  ------        --------------   ----- \n",
      " 0   timestamp     341481 non-null  object\n",
      " 1   anonymous_id  341481 non-null  object\n",
      "dtypes: object(2)\n",
      "memory usage: 5.2+ MB\n"
     ]
    },
    {
     "data": {
      "text/plain": [
       "None"
      ]
     },
     "metadata": {},
     "output_type": "display_data"
    },
    {
     "name": "stdout",
     "output_type": "stream",
     "text": [
      "df_mainpage\n",
      "<class 'pandas.core.frame.DataFrame'>\n",
      "RangeIndex: 613509 entries, 0 to 613508\n",
      "Data columns (total 3 columns):\n",
      " #   Column        Non-Null Count   Dtype \n",
      "---  ------        --------------   ----- \n",
      " 0   timestamp     613509 non-null  object\n",
      " 1   anonymous_id  613509 non-null  object\n",
      " 2   retailer_id   613509 non-null  int64 \n",
      "dtypes: int64(1), object(2)\n",
      "memory usage: 14.0+ MB\n"
     ]
    },
    {
     "data": {
      "text/plain": [
       "None"
      ]
     },
     "metadata": {},
     "output_type": "display_data"
    },
    {
     "name": "stdout",
     "output_type": "stream",
     "text": [
      "df_address_change\n",
      "<class 'pandas.core.frame.DataFrame'>\n",
      "RangeIndex: 103434 entries, 0 to 103433\n",
      "Data columns (total 3 columns):\n",
      " #   Column        Non-Null Count   Dtype \n",
      "---  ------        --------------   ----- \n",
      " 0   timestamp     103434 non-null  object\n",
      " 1   anonymous_id  103434 non-null  object\n",
      " 2   source        103434 non-null  object\n",
      "dtypes: object(3)\n",
      "memory usage: 2.4+ MB\n"
     ]
    },
    {
     "data": {
      "text/plain": [
       "None"
      ]
     },
     "metadata": {},
     "output_type": "display_data"
    },
    {
     "name": "stdout",
     "output_type": "stream",
     "text": [
      "df_delivery_zone\n",
      "<class 'pandas.core.frame.DataFrame'>\n",
      "RangeIndex: 6167 entries, 0 to 6166\n",
      "Data columns (total 2 columns):\n",
      " #   Column        Non-Null Count  Dtype \n",
      "---  ------        --------------  ----- \n",
      " 0   timestamp     6167 non-null   object\n",
      " 1   anonymous_id  6167 non-null   object\n",
      "dtypes: object(2)\n",
      "memory usage: 96.5+ KB\n"
     ]
    },
    {
     "data": {
      "text/plain": [
       "None"
      ]
     },
     "metadata": {},
     "output_type": "display_data"
    },
    {
     "name": "stdout",
     "output_type": "stream",
     "text": [
      "df_shop_started\n",
      "<class 'pandas.core.frame.DataFrame'>\n",
      "RangeIndex: 57407 entries, 0 to 57406\n",
      "Data columns (total 3 columns):\n",
      " #   Column        Non-Null Count  Dtype \n",
      "---  ------        --------------  ----- \n",
      " 0   timestamp     57407 non-null  object\n",
      " 1   anonymous_id  57407 non-null  object\n",
      " 2   source        57407 non-null  object\n",
      "dtypes: object(3)\n",
      "memory usage: 1.3+ MB\n"
     ]
    },
    {
     "data": {
      "text/plain": [
       "None"
      ]
     },
     "metadata": {},
     "output_type": "display_data"
    },
    {
     "name": "stdout",
     "output_type": "stream",
     "text": [
      "df_shop_selected\n",
      "<class 'pandas.core.frame.DataFrame'>\n",
      "RangeIndex: 211728 entries, 0 to 211727\n",
      "Data columns (total 3 columns):\n",
      " #   Column        Non-Null Count   Dtype \n",
      "---  ------        --------------   ----- \n",
      " 0   timestamp     211728 non-null  object\n",
      " 1   anonymous_id  211728 non-null  object\n",
      " 2   source        211728 non-null  object\n",
      "dtypes: object(3)\n",
      "memory usage: 4.8+ MB\n"
     ]
    },
    {
     "data": {
      "text/plain": [
       "None"
      ]
     },
     "metadata": {},
     "output_type": "display_data"
    },
    {
     "name": "stdout",
     "output_type": "stream",
     "text": [
      "df_product\n",
      "<class 'pandas.core.frame.DataFrame'>\n",
      "RangeIndex: 1150060 entries, 0 to 1150059\n",
      "Data columns (total 2 columns):\n",
      " #   Column        Non-Null Count    Dtype \n",
      "---  ------        --------------    ----- \n",
      " 0   timestamp     1150060 non-null  object\n",
      " 1   anonymous_id  1150060 non-null  object\n",
      "dtypes: object(2)\n",
      "memory usage: 17.5+ MB\n"
     ]
    },
    {
     "data": {
      "text/plain": [
       "None"
      ]
     },
     "metadata": {},
     "output_type": "display_data"
    },
    {
     "name": "stdout",
     "output_type": "stream",
     "text": [
      "df_cart\n",
      "<class 'pandas.core.frame.DataFrame'>\n",
      "RangeIndex: 1223417 entries, 0 to 1223416\n",
      "Data columns (total 2 columns):\n",
      " #   Column        Non-Null Count    Dtype \n",
      "---  ------        --------------    ----- \n",
      " 0   timestamp     1223417 non-null  object\n",
      " 1   anonymous_id  1223417 non-null  object\n",
      "dtypes: object(2)\n",
      "memory usage: 18.7+ MB\n"
     ]
    },
    {
     "data": {
      "text/plain": [
       "None"
      ]
     },
     "metadata": {},
     "output_type": "display_data"
    },
    {
     "name": "stdout",
     "output_type": "stream",
     "text": [
      "df_order\n",
      "<class 'pandas.core.frame.DataFrame'>\n",
      "RangeIndex: 16650 entries, 0 to 16649\n",
      "Data columns (total 3 columns):\n",
      " #   Column        Non-Null Count  Dtype  \n",
      "---  ------        --------------  -----  \n",
      " 0   timestamp     16650 non-null  object \n",
      " 1   anonymous_id  16650 non-null  object \n",
      " 2   order_sum     16650 non-null  float64\n",
      "dtypes: float64(1), object(2)\n",
      "memory usage: 390.4+ KB\n"
     ]
    },
    {
     "data": {
      "text/plain": [
       "None"
      ]
     },
     "metadata": {},
     "output_type": "display_data"
    }
   ],
   "source": [
    "for _df in list_df:\n",
    "    print(get_df_name(_df))\n",
    "    display(_df.info())"
   ]
  },
  {
   "cell_type": "markdown",
   "id": "empirical-february",
   "metadata": {},
   "source": [
    "Выявили 1 пропуск в типе ОС пользователя"
   ]
  },
  {
   "cell_type": "code",
   "execution_count": 6,
   "id": "turkish-smoke",
   "metadata": {},
   "outputs": [
    {
     "data": {
      "text/html": [
       "<div>\n",
       "<style scoped>\n",
       "    .dataframe tbody tr th:only-of-type {\n",
       "        vertical-align: middle;\n",
       "    }\n",
       "\n",
       "    .dataframe tbody tr th {\n",
       "        vertical-align: top;\n",
       "    }\n",
       "\n",
       "    .dataframe thead th {\n",
       "        text-align: right;\n",
       "    }\n",
       "</style>\n",
       "<table border=\"1\" class=\"dataframe\">\n",
       "  <thead>\n",
       "    <tr style=\"text-align: right;\">\n",
       "      <th></th>\n",
       "      <th>hit_at</th>\n",
       "      <th>anonymous_id</th>\n",
       "      <th>group</th>\n",
       "      <th>device_type</th>\n",
       "      <th>browser</th>\n",
       "      <th>os</th>\n",
       "    </tr>\n",
       "  </thead>\n",
       "  <tbody>\n",
       "    <tr>\n",
       "      <th>353476</th>\n",
       "      <td>2020-11-26 08:04:14.164 UTC</td>\n",
       "      <td>43c2bbe6-ba74-4b76-9597-421d3175ad30</td>\n",
       "      <td>default</td>\n",
       "      <td>desktop</td>\n",
       "      <td>Firefox</td>\n",
       "      <td>NaN</td>\n",
       "    </tr>\n",
       "  </tbody>\n",
       "</table>\n",
       "</div>"
      ],
      "text/plain": [
       "                             hit_at                          anonymous_id  \\\n",
       "353476  2020-11-26 08:04:14.164 UTC  43c2bbe6-ba74-4b76-9597-421d3175ad30   \n",
       "\n",
       "          group device_type  browser   os  \n",
       "353476  default     desktop  Firefox  NaN  "
      ]
     },
     "execution_count": 6,
     "metadata": {},
     "output_type": "execute_result"
    }
   ],
   "source": [
    "df_ab_test.loc[df_ab_test.isna().any(axis=1),:]"
   ]
  },
  {
   "cell_type": "markdown",
   "id": "figured-apparatus",
   "metadata": {},
   "source": [
    "<a id=\"preprocessing\"></a>\n",
    "## 2. Предобработка данных"
   ]
  },
  {
   "cell_type": "markdown",
   "id": "lesbian-commercial",
   "metadata": {},
   "source": [
    "### Приведём дату к типу `datetime` во всех\n",
    "И обрежем время до секунды"
   ]
  },
  {
   "cell_type": "code",
   "execution_count": 7,
   "id": "prescription-screw",
   "metadata": {},
   "outputs": [],
   "source": [
    "df_ab_test['hit_at'] = df_ab_test['hit_at'].apply(lambda x: re.sub(r\"\\.[0-9]{1,3}\", \"\", x))\n",
    "df_ab_test['hit_at'] = pd.to_datetime(df_ab_test['hit_at'], format='%Y-%m-%d %H:%M:%S %Z')"
   ]
  },
  {
   "cell_type": "code",
   "execution_count": 8,
   "id": "danish-queens",
   "metadata": {},
   "outputs": [],
   "source": [
    "for _df in list_df:\n",
    "    if _df.equals(df_ab_test):\n",
    "        continue\n",
    "    _df['timestamp'] = _df['timestamp'].apply(lambda x: re.sub(r\"\\.[0-9]{1,3}\", \"\", x))\n",
    "    _df['timestamp'] = pd.to_datetime(_df['timestamp'], format='%Y-%m-%d %H:%M:%S %Z')"
   ]
  },
  {
   "cell_type": "markdown",
   "id": "celtic-daisy",
   "metadata": {},
   "source": [
    "### Удалим все полные дубликаты во всех таблицах\n",
    "\n",
    "Неопытный аналитик мог совершить ошибку в сборе данных и задублировать их"
   ]
  },
  {
   "cell_type": "code",
   "execution_count": 9,
   "id": "bronze-finnish",
   "metadata": {},
   "outputs": [
    {
     "name": "stdout",
     "output_type": "stream",
     "text": [
      "124 rows duplicated has removed in df_ab_test table\n",
      "2324 rows duplicated has removed in df_landing table\n",
      "7932 rows duplicated has removed in df_mainpage table\n",
      "920 rows duplicated has removed in df_address_change table\n",
      "3 rows duplicated has removed in df_delivery_zone table\n",
      "562 rows duplicated has removed in df_shop_started table\n",
      "22348 rows duplicated has removed in df_shop_selected table\n",
      "4400 rows duplicated has removed in df_product table\n",
      "4400 rows duplicated has removed in df_cart table\n",
      "0 rows duplicated has removed in df_order table\n"
     ]
    }
   ],
   "source": [
    "for i, _df in enumerate(list_df):\n",
    "    df_name = get_df_name(_df)\n",
    "    n_duplicates = _df[_df.duplicated(keep='first')].shape[0]\n",
    "    list_df[i] = list_df[i].drop_duplicates()\n",
    "    print(f\"{n_duplicates} rows duplicated has removed in {df_name} table\")\n",
    "\n",
    "# Prevent copy of dataframes\n",
    "df_ab_test = list_df[0]\n",
    "df_landing = list_df[1]\n",
    "df_mainpage = list_df[2]\n",
    "df_adress_change = list_df[3]\n",
    "df_delivery_zone = list_df[4]\n",
    "df_shop_started = list_df[5]\n",
    "df_shop_selected = list_df[6]\n",
    "df_product = list_df[7]\n",
    "df_cart = list_df[8]\n",
    "df_order = list_df[9]"
   ]
  },
  {
   "cell_type": "markdown",
   "id": "alien-pearl",
   "metadata": {},
   "source": [
    "<a id=\"eda\"></a>\n",
    "## 3. Исследовательский анализ данных"
   ]
  },
  {
   "cell_type": "markdown",
   "id": "close-survival",
   "metadata": {},
   "source": [
    "### Оставим только тех пользователей которые были на странице лендинга"
   ]
  },
  {
   "cell_type": "markdown",
   "id": "floral-artist",
   "metadata": {},
   "source": [
    "Оставим только первый заход на лендинг для каждого пользователя"
   ]
  },
  {
   "cell_type": "code",
   "execution_count": 10,
   "id": "secret-farmer",
   "metadata": {},
   "outputs": [],
   "source": [
    "df_landing = df_landing.sort_values('timestamp').drop_duplicates('anonymous_id')"
   ]
  },
  {
   "cell_type": "code",
   "execution_count": 11,
   "id": "express-wheel",
   "metadata": {},
   "outputs": [
    {
     "name": "stdout",
     "output_type": "stream",
     "text": [
      "282744(56.25%) rows of clients not viewed landing has removed\n"
     ]
    }
   ],
   "source": [
    "df = df_ab_test.copy().merge(df_landing, how='left', on='anonymous_id')\n",
    "#df = df.groupby(['anonymous_id'])['timestamp'].min().reset_index() # keep only first visit of landing\n",
    "\n",
    "df = df.rename(columns={\"timestamp\": \"timestamp_landing\"})\n",
    "df_nan = df['timestamp_landing'].isna()\n",
    "\n",
    "print(f\"{df_nan.sum()}({(df_nan.sum()/df.shape[0])*100:.2f}%) rows of clients not viewed landing has removed\")\n",
    "\n",
    "df = df[~df_nan]"
   ]
  },
  {
   "cell_type": "markdown",
   "id": "naval-pierre",
   "metadata": {},
   "source": [
    "Удалили **56%** записей по пользователями которые не бывали на лендинге. Это очень большая доля от всех пользователей."
   ]
  },
  {
   "cell_type": "markdown",
   "id": "tough-glenn",
   "metadata": {},
   "source": [
    "### Если пользователь несколько раз попал в группу A/B тестирования то оставим только одну запись"
   ]
  },
  {
   "cell_type": "markdown",
   "id": "current-relay",
   "metadata": {},
   "source": [
    "#### Оставим только первую по времени запись"
   ]
  },
  {
   "cell_type": "code",
   "execution_count": 12,
   "id": "entire-barrel",
   "metadata": {},
   "outputs": [],
   "source": [
    "first_unique_id = df[['hit_at', 'anonymous_id']].groupby('anonymous_id').min()\n",
    "df = first_unique_id.reset_index().merge(df, how='left', on=['anonymous_id', 'hit_at'])"
   ]
  },
  {
   "cell_type": "markdown",
   "id": "different-gregory",
   "metadata": {},
   "source": [
    "#### Не будем учитывать пользователей которые попали в обе группы"
   ]
  },
  {
   "cell_type": "markdown",
   "id": "middle-fraction",
   "metadata": {},
   "source": [
    "Проверим есть ли дублирование пользователей по группам"
   ]
  },
  {
   "cell_type": "code",
   "execution_count": 13,
   "id": "desperate-instrumentation",
   "metadata": {},
   "outputs": [],
   "source": [
    "group_doubles = df.duplicated(subset=['anonymous_id', 'hit_at', 'device_type', 'browser', 'os'], keep=False)"
   ]
  },
  {
   "cell_type": "markdown",
   "id": "skilled-backup",
   "metadata": {},
   "source": [
    "Удалим дубликаты"
   ]
  },
  {
   "cell_type": "code",
   "execution_count": 14,
   "id": "professional-dragon",
   "metadata": {},
   "outputs": [],
   "source": [
    "df = df[~group_doubles]"
   ]
  },
  {
   "cell_type": "markdown",
   "id": "respective-newark",
   "metadata": {},
   "source": [
    "Проверим, что у нас осталось только по 1 записи на уникального пользователя"
   ]
  },
  {
   "cell_type": "code",
   "execution_count": 15,
   "id": "related-administration",
   "metadata": {},
   "outputs": [
    {
     "data": {
      "text/plain": [
       "0"
      ]
     },
     "execution_count": 15,
     "metadata": {},
     "output_type": "execute_result"
    }
   ],
   "source": [
    "df[df.duplicated(subset='anonymous_id', keep=False)].shape[0]"
   ]
  },
  {
   "cell_type": "markdown",
   "id": "technological-revision",
   "metadata": {},
   "source": [
    "### Временные характеристики эксперимента"
   ]
  },
  {
   "cell_type": "code",
   "execution_count": 16,
   "id": "affected-corner",
   "metadata": {},
   "outputs": [
    {
     "name": "stdout",
     "output_type": "stream",
     "text": [
      "Начало эксперимента: 2020-11-26 00:00:10+00:00\n",
      "Конец эксперимента: 2020-12-10 23:59:57+00:00\n",
      "Продолжительность эксперимента: 14 days 23:59:47\n"
     ]
    }
   ],
   "source": [
    "print(f\"Начало эксперимента: {df_ab_test['hit_at'].min()}\")\n",
    "print(f\"Конец эксперимента: {df_ab_test['hit_at'].max()}\")\n",
    "print(f\"Продолжительность эксперимента: {(df_ab_test['hit_at'].max() - df_ab_test['hit_at'].min())}\")"
   ]
  },
  {
   "cell_type": "code",
   "execution_count": 17,
   "id": "fifth-claim",
   "metadata": {},
   "outputs": [
    {
     "data": {
      "image/png": "[encoded data removed]",
      "text/plain": [
       "<Figure size 720x432 with 1 Axes>"
      ]
     },
     "metadata": {
      "needs_background": "light"
     },
     "output_type": "display_data"
    }
   ],
   "source": [
    "import warnings\n",
    "warnings.filterwarnings('ignore')\n",
    "\n",
    "fig = plt.figure(figsize=(10,6))\n",
    "graph = df_ab_test.groupby('group')['hit_at'].apply(lambda x: sns.distplot(x, hist=False, rug=False, label='time'))\n",
    "graph.iloc[0].set_xticklabels(labels=df_ab_test['hit_at'].dt.strftime('%Y-%m-%d'), rotation=45)\n",
    "graph.iloc[0].set(xlabel='Time')\n",
    "\n",
    "fig.legend(labels=['default','address_first'])\n",
    "plt.title('Density of clients')\n",
    "plt.show()"
   ]
  },
  {
   "cell_type": "markdown",
   "id": "catholic-cooperative",
   "metadata": {},
   "source": [
    "Можем сделать вывод, что число пользователей каждый день было примерно одинаково независимо от группы относительно общего числа пользователей группы. Скачки в числе показов лендинга с адресом требуют дополнительного исследования."
   ]
  },
  {
   "cell_type": "markdown",
   "id": "exterior-transaction",
   "metadata": {},
   "source": [
    "### Cоотношение распределение пользователей в A/B тестировании"
   ]
  },
  {
   "cell_type": "code",
   "execution_count": 18,
   "id": "arabic-history",
   "metadata": {},
   "outputs": [],
   "source": [
    "def percentage_string(x):\n",
    "    '''Return percent as string'''\n",
    "    if x > 0.01 or math.isclose(x, 0):\n",
    "        return f\"{round(x,2)*100:.0f}%\"\n",
    "    else:\n",
    "        return \"<1%\""
   ]
  },
  {
   "cell_type": "code",
   "execution_count": 19,
   "id": "smart-abuse",
   "metadata": {},
   "outputs": [],
   "source": [
    "COLORS = ['Red','Orange', 'Blue', 'Purple', 'Green', 'Magenta']"
   ]
  },
  {
   "cell_type": "code",
   "execution_count": 20,
   "id": "pleasant-thirty",
   "metadata": {},
   "outputs": [],
   "source": [
    "def plot_bar(data, column='count', title=None):\n",
    "    plt.figure(figsize=(len(data.index)*1.5,5))\n",
    "    graph = plt.bar(data.index, data[column], color=COLORS)\n",
    "\n",
    "    plt.title(title)\n",
    "\n",
    "    for p, i in zip(graph, range(len(graph))):\n",
    "        width = p.get_width()\n",
    "        height = p.get_height()\n",
    "        x, y = p.get_xy()\n",
    "        plt.text(x+width/2,\n",
    "                 y+height*.5,\n",
    "                 data.percent[i],\n",
    "                 ha='center')\n",
    "    plt.show()"
   ]
  },
  {
   "cell_type": "markdown",
   "id": "sealed-dryer",
   "metadata": {},
   "source": [
    "#### Посмотрим соотношение распределение пользователей по группам A/B тестирования"
   ]
  },
  {
   "cell_type": "code",
   "execution_count": 21,
   "id": "boring-argentina",
   "metadata": {},
   "outputs": [],
   "source": [
    "groups_count = df[['anonymous_id', 'group']].groupby('group').agg(['size'])\n",
    "groups_count.columns = ['count']\n",
    "groups_count['percent'] = groups_count.transform(lambda x: x/x.sum())\n",
    "groups_count['percent'] = groups_count['percent'].transform(percentage_string)"
   ]
  },
  {
   "cell_type": "code",
   "execution_count": 22,
   "id": "nutritional-vaccine",
   "metadata": {},
   "outputs": [
    {
     "data": {
      "image/png": "[encoded data removed]",
      "text/plain": [
       "<Figure size 216x360 with 1 Axes>"
      ]
     },
     "metadata": {
      "needs_background": "light"
     },
     "output_type": "display_data"
    }
   ],
   "source": [
    "plot_bar(groups_count, title='Distribution of user groups')"
   ]
  },
  {
   "cell_type": "markdown",
   "id": "increased-composition",
   "metadata": {},
   "source": [
    "Наблюдаем, что распределение пользователей по группам которым показывался разный вариант лендинга сильно несбалансировано."
   ]
  },
  {
   "cell_type": "markdown",
   "id": "occasional-extraction",
   "metadata": {},
   "source": [
    "#### Посмотрим с каким платформ заходили на лендинг"
   ]
  },
  {
   "cell_type": "code",
   "execution_count": 23,
   "id": "found-second",
   "metadata": {},
   "outputs": [
    {
     "data": {
      "text/html": [
       "<div>\n",
       "<style scoped>\n",
       "    .dataframe tbody tr th:only-of-type {\n",
       "        vertical-align: middle;\n",
       "    }\n",
       "\n",
       "    .dataframe tbody tr th {\n",
       "        vertical-align: top;\n",
       "    }\n",
       "\n",
       "    .dataframe thead th {\n",
       "        text-align: right;\n",
       "    }\n",
       "</style>\n",
       "<table border=\"1\" class=\"dataframe\">\n",
       "  <thead>\n",
       "    <tr style=\"text-align: right;\">\n",
       "      <th></th>\n",
       "      <th></th>\n",
       "      <th>anonymous_id</th>\n",
       "    </tr>\n",
       "    <tr>\n",
       "      <th>group</th>\n",
       "      <th>device_type</th>\n",
       "      <th></th>\n",
       "    </tr>\n",
       "  </thead>\n",
       "  <tbody>\n",
       "    <tr>\n",
       "      <th rowspan=\"5\" valign=\"top\">address_first</th>\n",
       "      <th>console</th>\n",
       "      <td>1</td>\n",
       "    </tr>\n",
       "    <tr>\n",
       "      <th>desktop</th>\n",
       "      <td>11246</td>\n",
       "    </tr>\n",
       "    <tr>\n",
       "      <th>mobile</th>\n",
       "      <td>11993</td>\n",
       "    </tr>\n",
       "    <tr>\n",
       "      <th>smarttv</th>\n",
       "      <td>1</td>\n",
       "    </tr>\n",
       "    <tr>\n",
       "      <th>tablet</th>\n",
       "      <td>358</td>\n",
       "    </tr>\n",
       "    <tr>\n",
       "      <th rowspan=\"5\" valign=\"top\">default</th>\n",
       "      <th>console</th>\n",
       "      <td>8</td>\n",
       "    </tr>\n",
       "    <tr>\n",
       "      <th>desktop</th>\n",
       "      <td>90428</td>\n",
       "    </tr>\n",
       "    <tr>\n",
       "      <th>mobile</th>\n",
       "      <td>94111</td>\n",
       "    </tr>\n",
       "    <tr>\n",
       "      <th>smarttv</th>\n",
       "      <td>7</td>\n",
       "    </tr>\n",
       "    <tr>\n",
       "      <th>tablet</th>\n",
       "      <td>2705</td>\n",
       "    </tr>\n",
       "  </tbody>\n",
       "</table>\n",
       "</div>"
      ],
      "text/plain": [
       "                           anonymous_id\n",
       "group         device_type              \n",
       "address_first console                 1\n",
       "              desktop             11246\n",
       "              mobile              11993\n",
       "              smarttv                 1\n",
       "              tablet                358\n",
       "default       console                 8\n",
       "              desktop             90428\n",
       "              mobile              94111\n",
       "              smarttv                 7\n",
       "              tablet               2705"
      ]
     },
     "execution_count": 23,
     "metadata": {},
     "output_type": "execute_result"
    }
   ],
   "source": [
    "pd.pivot_table(df, values='anonymous_id', index=['group', 'device_type'], aggfunc='count')"
   ]
  },
  {
   "cell_type": "markdown",
   "id": "active-alert",
   "metadata": {},
   "source": [
    "Кол-во пользователей с консолей и смартТВ незначительное. Отметим, что число пользователей с планшета невелико."
   ]
  },
  {
   "cell_type": "code",
   "execution_count": 24,
   "id": "dressed-compromise",
   "metadata": {},
   "outputs": [
    {
     "data": {
      "image/png": "[encoded data removed]",
      "text/plain": [
       "<Figure size 540x360 with 1 Axes>"
      ]
     },
     "metadata": {
      "needs_background": "light"
     },
     "output_type": "display_data"
    }
   ],
   "source": [
    "device_count = df[['anonymous_id', 'device_type']].groupby('device_type').agg(['size'])\n",
    "device_count.columns = ['count']\n",
    "device_count['percent'] = device_count.transform(lambda x: x/x.sum())\n",
    "device_count['percent'] = device_count['percent'].transform(percentage_string)\n",
    "device_count = device_count.sort_values('count')\n",
    "\n",
    "plot_bar(device_count, title='Distribution of user by devices')"
   ]
  },
  {
   "cell_type": "code",
   "execution_count": 25,
   "id": "proof-consideration",
   "metadata": {},
   "outputs": [
    {
     "data": {
      "image/png": "[encoded data removed]",
      "text/plain": [
       "<Figure size 1512x360 with 1 Axes>"
      ]
     },
     "metadata": {
      "needs_background": "light"
     },
     "output_type": "display_data"
    }
   ],
   "source": [
    "os_count = df[['anonymous_id', 'os']].groupby('os').agg(['size'])\n",
    "os_count.columns = ['count']\n",
    "os_count['percent'] = os_count.transform(lambda x: x/x.sum())\n",
    "os_count['percent'] = os_count['percent'].transform(percentage_string)\n",
    "os_count = os_count.sort_values('count')\n",
    "\n",
    "plot_bar(os_count, title='Distribution of users by OS')"
   ]
  },
  {
   "cell_type": "code",
   "execution_count": 26,
   "id": "living-cookie",
   "metadata": {},
   "outputs": [
    {
     "data": {
      "text/html": [
       "<div>\n",
       "<style scoped>\n",
       "    .dataframe tbody tr th:only-of-type {\n",
       "        vertical-align: middle;\n",
       "    }\n",
       "\n",
       "    .dataframe tbody tr th {\n",
       "        vertical-align: top;\n",
       "    }\n",
       "\n",
       "    .dataframe thead th {\n",
       "        text-align: right;\n",
       "    }\n",
       "</style>\n",
       "<table border=\"1\" class=\"dataframe\">\n",
       "  <thead>\n",
       "    <tr style=\"text-align: right;\">\n",
       "      <th></th>\n",
       "      <th>count</th>\n",
       "      <th>percent</th>\n",
       "    </tr>\n",
       "    <tr>\n",
       "      <th>browser</th>\n",
       "      <th></th>\n",
       "      <th></th>\n",
       "    </tr>\n",
       "  </thead>\n",
       "  <tbody>\n",
       "    <tr>\n",
       "      <th>Chrome</th>\n",
       "      <td>250166</td>\n",
       "      <td>50%</td>\n",
       "    </tr>\n",
       "    <tr>\n",
       "      <th>Mobile Safari</th>\n",
       "      <td>83765</td>\n",
       "      <td>17%</td>\n",
       "    </tr>\n",
       "    <tr>\n",
       "      <th>Yandex</th>\n",
       "      <td>53589</td>\n",
       "      <td>11%</td>\n",
       "    </tr>\n",
       "    <tr>\n",
       "      <th>Chrome WebView</th>\n",
       "      <td>18897</td>\n",
       "      <td>4%</td>\n",
       "    </tr>\n",
       "    <tr>\n",
       "      <th>WebKit</th>\n",
       "      <td>18045</td>\n",
       "      <td>4%</td>\n",
       "    </tr>\n",
       "    <tr>\n",
       "      <th>Samsung Browser</th>\n",
       "      <td>16020</td>\n",
       "      <td>3%</td>\n",
       "    </tr>\n",
       "    <tr>\n",
       "      <th>Firefox</th>\n",
       "      <td>15088</td>\n",
       "      <td>3%</td>\n",
       "    </tr>\n",
       "    <tr>\n",
       "      <th>Opera</th>\n",
       "      <td>12907</td>\n",
       "      <td>3%</td>\n",
       "    </tr>\n",
       "    <tr>\n",
       "      <th>MIUI Browser</th>\n",
       "      <td>12526</td>\n",
       "      <td>2%</td>\n",
       "    </tr>\n",
       "    <tr>\n",
       "      <th>Safari</th>\n",
       "      <td>8853</td>\n",
       "      <td>2%</td>\n",
       "    </tr>\n",
       "    <tr>\n",
       "      <th>Edge</th>\n",
       "      <td>6078</td>\n",
       "      <td>1%</td>\n",
       "    </tr>\n",
       "    <tr>\n",
       "      <th>GSA</th>\n",
       "      <td>3594</td>\n",
       "      <td>&lt;1%</td>\n",
       "    </tr>\n",
       "    <tr>\n",
       "      <th>Facebook</th>\n",
       "      <td>1691</td>\n",
       "      <td>&lt;1%</td>\n",
       "    </tr>\n",
       "    <tr>\n",
       "      <th>Android Browser</th>\n",
       "      <td>556</td>\n",
       "      <td>&lt;1%</td>\n",
       "    </tr>\n",
       "    <tr>\n",
       "      <th>UCBrowser</th>\n",
       "      <td>429</td>\n",
       "      <td>&lt;1%</td>\n",
       "    </tr>\n",
       "    <tr>\n",
       "      <th>Opera Touch</th>\n",
       "      <td>124</td>\n",
       "      <td>&lt;1%</td>\n",
       "    </tr>\n",
       "    <tr>\n",
       "      <th>IE</th>\n",
       "      <td>95</td>\n",
       "      <td>&lt;1%</td>\n",
       "    </tr>\n",
       "    <tr>\n",
       "      <th>Maxthon</th>\n",
       "      <td>60</td>\n",
       "      <td>&lt;1%</td>\n",
       "    </tr>\n",
       "    <tr>\n",
       "      <th>Puffin</th>\n",
       "      <td>39</td>\n",
       "      <td>&lt;1%</td>\n",
       "    </tr>\n",
       "    <tr>\n",
       "      <th>Chromium</th>\n",
       "      <td>39</td>\n",
       "      <td>&lt;1%</td>\n",
       "    </tr>\n",
       "    <tr>\n",
       "      <th>Vivaldi</th>\n",
       "      <td>17</td>\n",
       "      <td>&lt;1%</td>\n",
       "    </tr>\n",
       "    <tr>\n",
       "      <th>Waterfox</th>\n",
       "      <td>15</td>\n",
       "      <td>&lt;1%</td>\n",
       "    </tr>\n",
       "    <tr>\n",
       "      <th>PaleMoon</th>\n",
       "      <td>14</td>\n",
       "      <td>&lt;1%</td>\n",
       "    </tr>\n",
       "    <tr>\n",
       "      <th>Mozilla</th>\n",
       "      <td>13</td>\n",
       "      <td>&lt;1%</td>\n",
       "    </tr>\n",
       "    <tr>\n",
       "      <th>QQBrowser</th>\n",
       "      <td>9</td>\n",
       "      <td>&lt;1%</td>\n",
       "    </tr>\n",
       "    <tr>\n",
       "      <th>jasmine</th>\n",
       "      <td>6</td>\n",
       "      <td>&lt;1%</td>\n",
       "    </tr>\n",
       "    <tr>\n",
       "      <th>WeChat</th>\n",
       "      <td>4</td>\n",
       "      <td>&lt;1%</td>\n",
       "    </tr>\n",
       "    <tr>\n",
       "      <th>IEMobile</th>\n",
       "      <td>3</td>\n",
       "      <td>&lt;1%</td>\n",
       "    </tr>\n",
       "    <tr>\n",
       "      <th>Slim</th>\n",
       "      <td>3</td>\n",
       "      <td>&lt;1%</td>\n",
       "    </tr>\n",
       "    <tr>\n",
       "      <th>Avast Secure Browser</th>\n",
       "      <td>3</td>\n",
       "      <td>&lt;1%</td>\n",
       "    </tr>\n",
       "    <tr>\n",
       "      <th>Brave</th>\n",
       "      <td>2</td>\n",
       "      <td>&lt;1%</td>\n",
       "    </tr>\n",
       "    <tr>\n",
       "      <th>MetaSr</th>\n",
       "      <td>2</td>\n",
       "      <td>&lt;1%</td>\n",
       "    </tr>\n",
       "    <tr>\n",
       "      <th>Opera Coast</th>\n",
       "      <td>2</td>\n",
       "      <td>&lt;1%</td>\n",
       "    </tr>\n",
       "    <tr>\n",
       "      <th>SeaMonkey</th>\n",
       "      <td>2</td>\n",
       "      <td>&lt;1%</td>\n",
       "    </tr>\n",
       "    <tr>\n",
       "      <th>Silk</th>\n",
       "      <td>2</td>\n",
       "      <td>&lt;1%</td>\n",
       "    </tr>\n",
       "    <tr>\n",
       "      <th>IceDragon</th>\n",
       "      <td>1</td>\n",
       "      <td>&lt;1%</td>\n",
       "    </tr>\n",
       "    <tr>\n",
       "      <th>Iceweasel</th>\n",
       "      <td>1</td>\n",
       "      <td>&lt;1%</td>\n",
       "    </tr>\n",
       "  </tbody>\n",
       "</table>\n",
       "</div>"
      ],
      "text/plain": [
       "                       count percent\n",
       "browser                             \n",
       "Chrome                250166     50%\n",
       "Mobile Safari          83765     17%\n",
       "Yandex                 53589     11%\n",
       "Chrome WebView         18897      4%\n",
       "WebKit                 18045      4%\n",
       "Samsung Browser        16020      3%\n",
       "Firefox                15088      3%\n",
       "Opera                  12907      3%\n",
       "MIUI Browser           12526      2%\n",
       "Safari                  8853      2%\n",
       "Edge                    6078      1%\n",
       "GSA                     3594     <1%\n",
       "Facebook                1691     <1%\n",
       "Android Browser          556     <1%\n",
       "UCBrowser                429     <1%\n",
       "Opera Touch              124     <1%\n",
       "IE                        95     <1%\n",
       "Maxthon                   60     <1%\n",
       "Puffin                    39     <1%\n",
       "Chromium                  39     <1%\n",
       "Vivaldi                   17     <1%\n",
       "Waterfox                  15     <1%\n",
       "PaleMoon                  14     <1%\n",
       "Mozilla                   13     <1%\n",
       "QQBrowser                  9     <1%\n",
       "jasmine                    6     <1%\n",
       "WeChat                     4     <1%\n",
       "IEMobile                   3     <1%\n",
       "Slim                       3     <1%\n",
       "Avast Secure Browser       3     <1%\n",
       "Brave                      2     <1%\n",
       "MetaSr                     2     <1%\n",
       "Opera Coast                2     <1%\n",
       "SeaMonkey                  2     <1%\n",
       "Silk                       2     <1%\n",
       "IceDragon                  1     <1%\n",
       "Iceweasel                  1     <1%"
      ]
     },
     "execution_count": 26,
     "metadata": {},
     "output_type": "execute_result"
    }
   ],
   "source": [
    "browser_count = df_ab_test[['anonymous_id', 'browser']].groupby('browser').agg(['size'])\n",
    "browser_count.columns = ['count']\n",
    "browser_count['percent'] = browser_count.transform(lambda x: x/x.sum())\n",
    "browser_count['percent'] = browser_count['percent'].transform(percentage_string)\n",
    "browser_count = browser_count.sort_values('count')\n",
    "\n",
    "browser_count.sort_values('count', ascending=False)"
   ]
  },
  {
   "cell_type": "markdown",
   "id": "stone-stone",
   "metadata": {},
   "source": [
    "Половина всех пользователей среди большого количества браузеров используют Google Chrome"
   ]
  },
  {
   "cell_type": "markdown",
   "id": "agricultural-advisory",
   "metadata": {},
   "source": [
    "<a id=\"metric\"></a>\n",
    "## 4. Расчёт метрик (bounce rate лендинга и конверсию)"
   ]
  },
  {
   "cell_type": "markdown",
   "id": "discrete-barrier",
   "metadata": {},
   "source": [
    "### Рассчитаем конверсию добавления товара в корзину"
   ]
  },
  {
   "cell_type": "code",
   "execution_count": 27,
   "id": "about-contrast",
   "metadata": {},
   "outputs": [],
   "source": [
    "df_product = df_product.sort_values('timestamp').drop_duplicates('anonymous_id')"
   ]
  },
  {
   "cell_type": "code",
   "execution_count": 28,
   "id": "damaged-heating",
   "metadata": {},
   "outputs": [],
   "source": [
    "df = df.merge(df_product, how='left', on='anonymous_id')\n",
    "df = df.rename(columns={\"timestamp\": \"timestamp_added_cart\"})"
   ]
  },
  {
   "cell_type": "markdown",
   "id": "expected-ferry",
   "metadata": {},
   "source": [
    "#### Рассчитаем сколько времени потребовалось между просмотром лендинга и добавлением товара в корзину"
   ]
  },
  {
   "cell_type": "code",
   "execution_count": 29,
   "id": "polar-stephen",
   "metadata": {},
   "outputs": [],
   "source": [
    "df['time_to_cart_add'] = df['timestamp_added_cart'] - df['timestamp_landing']"
   ]
  },
  {
   "cell_type": "markdown",
   "id": "turned-receptor",
   "metadata": {},
   "source": [
    "Удалим записи в которых добавление в корзину позже просмотра лендинга"
   ]
  },
  {
   "cell_type": "code",
   "execution_count": 30,
   "id": "delayed-kernel",
   "metadata": {},
   "outputs": [],
   "source": [
    "df = df[~(df['time_to_cart_add'] < pd.Timedelta(0))]"
   ]
  },
  {
   "cell_type": "markdown",
   "id": "frozen-addiction",
   "metadata": {},
   "source": [
    "#### Проверим конверсию по группам A/B тестирования"
   ]
  },
  {
   "cell_type": "code",
   "execution_count": 31,
   "id": "charged-badge",
   "metadata": {},
   "outputs": [
    {
     "data": {
      "text/html": [
       "<div>\n",
       "<style scoped>\n",
       "    .dataframe tbody tr th:only-of-type {\n",
       "        vertical-align: middle;\n",
       "    }\n",
       "\n",
       "    .dataframe tbody tr th {\n",
       "        vertical-align: top;\n",
       "    }\n",
       "\n",
       "    .dataframe thead th {\n",
       "        text-align: right;\n",
       "    }\n",
       "</style>\n",
       "<table border=\"1\" class=\"dataframe\">\n",
       "  <thead>\n",
       "    <tr style=\"text-align: right;\">\n",
       "      <th></th>\n",
       "      <th>count_cart</th>\n",
       "      <th>count_landing</th>\n",
       "      <th>conversion</th>\n",
       "      <th>conversion_%</th>\n",
       "    </tr>\n",
       "    <tr>\n",
       "      <th>group</th>\n",
       "      <th></th>\n",
       "      <th></th>\n",
       "      <th></th>\n",
       "      <th></th>\n",
       "    </tr>\n",
       "  </thead>\n",
       "  <tbody>\n",
       "    <tr>\n",
       "      <th>address_first</th>\n",
       "      <td>3516</td>\n",
       "      <td>23234</td>\n",
       "      <td>0.151330</td>\n",
       "      <td>15%</td>\n",
       "    </tr>\n",
       "    <tr>\n",
       "      <th>default</th>\n",
       "      <td>23737</td>\n",
       "      <td>184510</td>\n",
       "      <td>0.128649</td>\n",
       "      <td>13%</td>\n",
       "    </tr>\n",
       "  </tbody>\n",
       "</table>\n",
       "</div>"
      ],
      "text/plain": [
       "               count_cart  count_landing  conversion conversion_%\n",
       "group                                                            \n",
       "address_first        3516          23234    0.151330          15%\n",
       "default             23737         184510    0.128649          13%"
      ]
     },
     "execution_count": 31,
     "metadata": {},
     "output_type": "execute_result"
    }
   ],
   "source": [
    "t1 = pd.pivot_table(df, values='timestamp_added_cart', index=['group'], aggfunc='count')\n",
    "t1.columns=['count_cart']\n",
    "t2 = pd.pivot_table(df, values='anonymous_id', index=['group'], aggfunc='count')\n",
    "t2.columns=['count_landing']\n",
    "df_conversion = pd.concat([t1, t2], axis=1)\n",
    "df_conversion['conversion'] = df_conversion['count_cart'].values / df_conversion['count_landing'].values\n",
    "df_conversion['conversion_%'] = df_conversion['conversion'].transform(percentage_string)\n",
    "df_conversion"
   ]
  },
  {
   "cell_type": "markdown",
   "id": "attractive-eugene",
   "metadata": {},
   "source": [
    "**По всем пользователям конверсия с новым лендингом выше на 2% (15% и 13%)**\n",
    "\n",
    "При значении статистической значимости в 0.05 с высокой вероятностью конверсия нового лендинга выше, чем старого (p < 0.001)\n",
    "\n",
    "<img src=\"pics/conversion_significance.png\">"
   ]
  },
  {
   "cell_type": "markdown",
   "id": "shared-seating",
   "metadata": {},
   "source": [
    "#### Проверим конверсию по типам устройств используемых пользователями"
   ]
  },
  {
   "cell_type": "code",
   "execution_count": 32,
   "id": "gorgeous-benefit",
   "metadata": {},
   "outputs": [
    {
     "data": {
      "text/html": [
       "<div>\n",
       "<style scoped>\n",
       "    .dataframe tbody tr th:only-of-type {\n",
       "        vertical-align: middle;\n",
       "    }\n",
       "\n",
       "    .dataframe tbody tr th {\n",
       "        vertical-align: top;\n",
       "    }\n",
       "\n",
       "    .dataframe thead th {\n",
       "        text-align: right;\n",
       "    }\n",
       "</style>\n",
       "<table border=\"1\" class=\"dataframe\">\n",
       "  <thead>\n",
       "    <tr style=\"text-align: right;\">\n",
       "      <th></th>\n",
       "      <th></th>\n",
       "      <th>count_cart</th>\n",
       "      <th>count_landing</th>\n",
       "      <th>conversion</th>\n",
       "      <th>conversion_%</th>\n",
       "    </tr>\n",
       "    <tr>\n",
       "      <th>group</th>\n",
       "      <th>device_type</th>\n",
       "      <th></th>\n",
       "      <th></th>\n",
       "      <th></th>\n",
       "      <th></th>\n",
       "    </tr>\n",
       "  </thead>\n",
       "  <tbody>\n",
       "    <tr>\n",
       "      <th rowspan=\"5\" valign=\"top\">address_first</th>\n",
       "      <th>console</th>\n",
       "      <td>0</td>\n",
       "      <td>1</td>\n",
       "      <td>0.000000</td>\n",
       "      <td>0%</td>\n",
       "    </tr>\n",
       "    <tr>\n",
       "      <th>desktop</th>\n",
       "      <td>2345</td>\n",
       "      <td>10936</td>\n",
       "      <td>0.214429</td>\n",
       "      <td>21%</td>\n",
       "    </tr>\n",
       "    <tr>\n",
       "      <th>mobile</th>\n",
       "      <td>1135</td>\n",
       "      <td>11946</td>\n",
       "      <td>0.095011</td>\n",
       "      <td>10%</td>\n",
       "    </tr>\n",
       "    <tr>\n",
       "      <th>smarttv</th>\n",
       "      <td>0</td>\n",
       "      <td>1</td>\n",
       "      <td>0.000000</td>\n",
       "      <td>0%</td>\n",
       "    </tr>\n",
       "    <tr>\n",
       "      <th>tablet</th>\n",
       "      <td>36</td>\n",
       "      <td>350</td>\n",
       "      <td>0.102857</td>\n",
       "      <td>10%</td>\n",
       "    </tr>\n",
       "    <tr>\n",
       "      <th rowspan=\"5\" valign=\"top\">default</th>\n",
       "      <th>console</th>\n",
       "      <td>0</td>\n",
       "      <td>8</td>\n",
       "      <td>0.000000</td>\n",
       "      <td>0%</td>\n",
       "    </tr>\n",
       "    <tr>\n",
       "      <th>desktop</th>\n",
       "      <td>17593</td>\n",
       "      <td>88133</td>\n",
       "      <td>0.199619</td>\n",
       "      <td>20%</td>\n",
       "    </tr>\n",
       "    <tr>\n",
       "      <th>mobile</th>\n",
       "      <td>5903</td>\n",
       "      <td>93694</td>\n",
       "      <td>0.063003</td>\n",
       "      <td>6%</td>\n",
       "    </tr>\n",
       "    <tr>\n",
       "      <th>smarttv</th>\n",
       "      <td>2</td>\n",
       "      <td>7</td>\n",
       "      <td>0.285714</td>\n",
       "      <td>29%</td>\n",
       "    </tr>\n",
       "    <tr>\n",
       "      <th>tablet</th>\n",
       "      <td>239</td>\n",
       "      <td>2668</td>\n",
       "      <td>0.089580</td>\n",
       "      <td>9%</td>\n",
       "    </tr>\n",
       "  </tbody>\n",
       "</table>\n",
       "</div>"
      ],
      "text/plain": [
       "                           count_cart  count_landing  conversion conversion_%\n",
       "group         device_type                                                    \n",
       "address_first console               0              1    0.000000           0%\n",
       "              desktop            2345          10936    0.214429          21%\n",
       "              mobile             1135          11946    0.095011          10%\n",
       "              smarttv               0              1    0.000000           0%\n",
       "              tablet               36            350    0.102857          10%\n",
       "default       console               0              8    0.000000           0%\n",
       "              desktop           17593          88133    0.199619          20%\n",
       "              mobile             5903          93694    0.063003           6%\n",
       "              smarttv               2              7    0.285714          29%\n",
       "              tablet              239           2668    0.089580           9%"
      ]
     },
     "execution_count": 32,
     "metadata": {},
     "output_type": "execute_result"
    }
   ],
   "source": [
    "t1 = pd.pivot_table(df, values='timestamp_added_cart', index=['group', 'device_type'], aggfunc='count')\n",
    "t1.columns=['count_cart']\n",
    "t2 = pd.pivot_table(df, values='anonymous_id', index=['group', 'device_type'], aggfunc='count')\n",
    "t2.columns=['count_landing']\n",
    "df_conversion = pd.concat([t1, t2], axis=1)\n",
    "df_conversion['conversion'] = df_conversion['count_cart'].values / df_conversion['count_landing'].values\n",
    "df_conversion['conversion_%'] = df_conversion['conversion'].transform(percentage_string)\n",
    "df_conversion"
   ]
  },
  {
   "cell_type": "markdown",
   "id": "negative-advantage",
   "metadata": {},
   "source": [
    "**Конверсия между группами пользователей среди пользователей с мобильных устройств отличается на 4% или в ~1.5 раза (10% и 6%)**\n",
    "\n",
    "\n",
    "<img src=\"pics/conversion_mobile_significance.png\">"
   ]
  },
  {
   "cell_type": "markdown",
   "id": "worthy-batman",
   "metadata": {},
   "source": [
    "**Конверсия между группами пользователей среди пользователей с ПК 21.4% и 20%**\n",
    "\n",
    "\n",
    "<img src=\"pics/conversion_desktop_significance.png\">"
   ]
  },
  {
   "cell_type": "markdown",
   "id": "independent-carnival",
   "metadata": {},
   "source": [
    "По каким-то причинам ни один пользователь с консоли не добавил товар в корзину. И в группе пользователей `address_first` ни один пользователь не добавил товар в корзину, поэтому всех пользователей которые зашли на лендинг с консоли и смартТВ.\n",
    "\n",
    "Необходимо провести дополнительное расследование нет ли ошибки в лендинге которая не позволяет дойти до добавления товара в корзину при использовании смартТВ или консоли. Нужно учитывать незначительное число пользователей с этих типов устройств."
   ]
  },
  {
   "cell_type": "markdown",
   "id": "molecular-group",
   "metadata": {},
   "source": [
    "#### Проверим конверсию по типам ОС"
   ]
  },
  {
   "cell_type": "code",
   "execution_count": 33,
   "id": "accepted-eligibility",
   "metadata": {},
   "outputs": [
    {
     "data": {
      "text/html": [
       "<div>\n",
       "<style scoped>\n",
       "    .dataframe tbody tr th:only-of-type {\n",
       "        vertical-align: middle;\n",
       "    }\n",
       "\n",
       "    .dataframe tbody tr th {\n",
       "        vertical-align: top;\n",
       "    }\n",
       "\n",
       "    .dataframe thead th {\n",
       "        text-align: right;\n",
       "    }\n",
       "</style>\n",
       "<table border=\"1\" class=\"dataframe\">\n",
       "  <thead>\n",
       "    <tr style=\"text-align: right;\">\n",
       "      <th></th>\n",
       "      <th></th>\n",
       "      <th>count_cart</th>\n",
       "      <th>count_landing</th>\n",
       "      <th>conversion</th>\n",
       "      <th>conversion_%</th>\n",
       "    </tr>\n",
       "    <tr>\n",
       "      <th>group</th>\n",
       "      <th>os</th>\n",
       "      <th></th>\n",
       "      <th></th>\n",
       "      <th></th>\n",
       "      <th></th>\n",
       "    </tr>\n",
       "  </thead>\n",
       "  <tbody>\n",
       "    <tr>\n",
       "      <th rowspan=\"12\" valign=\"top\">address_first</th>\n",
       "      <th>Android</th>\n",
       "      <td>779</td>\n",
       "      <td>8050</td>\n",
       "      <td>0.096770</td>\n",
       "      <td>10%</td>\n",
       "    </tr>\n",
       "    <tr>\n",
       "      <th>Chromium OS</th>\n",
       "      <td>1</td>\n",
       "      <td>4</td>\n",
       "      <td>0.250000</td>\n",
       "      <td>25%</td>\n",
       "    </tr>\n",
       "    <tr>\n",
       "      <th>Fedora</th>\n",
       "      <td>0</td>\n",
       "      <td>4</td>\n",
       "      <td>0.000000</td>\n",
       "      <td>0%</td>\n",
       "    </tr>\n",
       "    <tr>\n",
       "      <th>Linux</th>\n",
       "      <td>20</td>\n",
       "      <td>3637</td>\n",
       "      <td>0.005499</td>\n",
       "      <td>&lt;1%</td>\n",
       "    </tr>\n",
       "    <tr>\n",
       "      <th>Mac OS</th>\n",
       "      <td>229</td>\n",
       "      <td>711</td>\n",
       "      <td>0.322082</td>\n",
       "      <td>32%</td>\n",
       "    </tr>\n",
       "    <tr>\n",
       "      <th>PlayStation</th>\n",
       "      <td>0</td>\n",
       "      <td>1</td>\n",
       "      <td>0.000000</td>\n",
       "      <td>0%</td>\n",
       "    </tr>\n",
       "    <tr>\n",
       "      <th>Tizen</th>\n",
       "      <td>0</td>\n",
       "      <td>1</td>\n",
       "      <td>0.000000</td>\n",
       "      <td>0%</td>\n",
       "    </tr>\n",
       "    <tr>\n",
       "      <th>Ubuntu</th>\n",
       "      <td>5</td>\n",
       "      <td>32</td>\n",
       "      <td>0.156250</td>\n",
       "      <td>16%</td>\n",
       "    </tr>\n",
       "    <tr>\n",
       "      <th>Windows</th>\n",
       "      <td>2081</td>\n",
       "      <td>6497</td>\n",
       "      <td>0.320302</td>\n",
       "      <td>32%</td>\n",
       "    </tr>\n",
       "    <tr>\n",
       "      <th>Windows Phone</th>\n",
       "      <td>0</td>\n",
       "      <td>1</td>\n",
       "      <td>0.000000</td>\n",
       "      <td>0%</td>\n",
       "    </tr>\n",
       "    <tr>\n",
       "      <th>Windows Phone OS</th>\n",
       "      <td>0</td>\n",
       "      <td>1</td>\n",
       "      <td>0.000000</td>\n",
       "      <td>0%</td>\n",
       "    </tr>\n",
       "    <tr>\n",
       "      <th>iOS</th>\n",
       "      <td>401</td>\n",
       "      <td>4295</td>\n",
       "      <td>0.093364</td>\n",
       "      <td>9%</td>\n",
       "    </tr>\n",
       "    <tr>\n",
       "      <th rowspan=\"13\" valign=\"top\">default</th>\n",
       "      <th>Android</th>\n",
       "      <td>4053</td>\n",
       "      <td>63555</td>\n",
       "      <td>0.063772</td>\n",
       "      <td>6%</td>\n",
       "    </tr>\n",
       "    <tr>\n",
       "      <th>Chromium OS</th>\n",
       "      <td>2</td>\n",
       "      <td>20</td>\n",
       "      <td>0.100000</td>\n",
       "      <td>10%</td>\n",
       "    </tr>\n",
       "    <tr>\n",
       "      <th>Fedora</th>\n",
       "      <td>3</td>\n",
       "      <td>8</td>\n",
       "      <td>0.375000</td>\n",
       "      <td>38%</td>\n",
       "    </tr>\n",
       "    <tr>\n",
       "      <th>FreeBSD</th>\n",
       "      <td>0</td>\n",
       "      <td>1</td>\n",
       "      <td>0.000000</td>\n",
       "      <td>0%</td>\n",
       "    </tr>\n",
       "    <tr>\n",
       "      <th>Linux</th>\n",
       "      <td>217</td>\n",
       "      <td>29502</td>\n",
       "      <td>0.007355</td>\n",
       "      <td>&lt;1%</td>\n",
       "    </tr>\n",
       "    <tr>\n",
       "      <th>Mac OS</th>\n",
       "      <td>1970</td>\n",
       "      <td>5806</td>\n",
       "      <td>0.339304</td>\n",
       "      <td>34%</td>\n",
       "    </tr>\n",
       "    <tr>\n",
       "      <th>NetBSD</th>\n",
       "      <td>0</td>\n",
       "      <td>1</td>\n",
       "      <td>0.000000</td>\n",
       "      <td>0%</td>\n",
       "    </tr>\n",
       "    <tr>\n",
       "      <th>PlayStation</th>\n",
       "      <td>0</td>\n",
       "      <td>8</td>\n",
       "      <td>0.000000</td>\n",
       "      <td>0%</td>\n",
       "    </tr>\n",
       "    <tr>\n",
       "      <th>Tizen</th>\n",
       "      <td>2</td>\n",
       "      <td>6</td>\n",
       "      <td>0.333333</td>\n",
       "      <td>33%</td>\n",
       "    </tr>\n",
       "    <tr>\n",
       "      <th>Ubuntu</th>\n",
       "      <td>48</td>\n",
       "      <td>216</td>\n",
       "      <td>0.222222</td>\n",
       "      <td>22%</td>\n",
       "    </tr>\n",
       "    <tr>\n",
       "      <th>Windows</th>\n",
       "      <td>15311</td>\n",
       "      <td>52168</td>\n",
       "      <td>0.293494</td>\n",
       "      <td>29%</td>\n",
       "    </tr>\n",
       "    <tr>\n",
       "      <th>Windows Phone</th>\n",
       "      <td>0</td>\n",
       "      <td>12</td>\n",
       "      <td>0.000000</td>\n",
       "      <td>0%</td>\n",
       "    </tr>\n",
       "    <tr>\n",
       "      <th>iOS</th>\n",
       "      <td>2131</td>\n",
       "      <td>33206</td>\n",
       "      <td>0.064175</td>\n",
       "      <td>6%</td>\n",
       "    </tr>\n",
       "  </tbody>\n",
       "</table>\n",
       "</div>"
      ],
      "text/plain": [
       "                                count_cart  count_landing  conversion  \\\n",
       "group         os                                                        \n",
       "address_first Android                  779           8050    0.096770   \n",
       "              Chromium OS                1              4    0.250000   \n",
       "              Fedora                     0              4    0.000000   \n",
       "              Linux                     20           3637    0.005499   \n",
       "              Mac OS                   229            711    0.322082   \n",
       "              PlayStation                0              1    0.000000   \n",
       "              Tizen                      0              1    0.000000   \n",
       "              Ubuntu                     5             32    0.156250   \n",
       "              Windows                 2081           6497    0.320302   \n",
       "              Windows Phone              0              1    0.000000   \n",
       "              Windows Phone OS           0              1    0.000000   \n",
       "              iOS                      401           4295    0.093364   \n",
       "default       Android                 4053          63555    0.063772   \n",
       "              Chromium OS                2             20    0.100000   \n",
       "              Fedora                     3              8    0.375000   \n",
       "              FreeBSD                    0              1    0.000000   \n",
       "              Linux                    217          29502    0.007355   \n",
       "              Mac OS                  1970           5806    0.339304   \n",
       "              NetBSD                     0              1    0.000000   \n",
       "              PlayStation                0              8    0.000000   \n",
       "              Tizen                      2              6    0.333333   \n",
       "              Ubuntu                    48            216    0.222222   \n",
       "              Windows                15311          52168    0.293494   \n",
       "              Windows Phone              0             12    0.000000   \n",
       "              iOS                     2131          33206    0.064175   \n",
       "\n",
       "                               conversion_%  \n",
       "group         os                             \n",
       "address_first Android                   10%  \n",
       "              Chromium OS               25%  \n",
       "              Fedora                     0%  \n",
       "              Linux                     <1%  \n",
       "              Mac OS                    32%  \n",
       "              PlayStation                0%  \n",
       "              Tizen                      0%  \n",
       "              Ubuntu                    16%  \n",
       "              Windows                   32%  \n",
       "              Windows Phone              0%  \n",
       "              Windows Phone OS           0%  \n",
       "              iOS                        9%  \n",
       "default       Android                    6%  \n",
       "              Chromium OS               10%  \n",
       "              Fedora                    38%  \n",
       "              FreeBSD                    0%  \n",
       "              Linux                     <1%  \n",
       "              Mac OS                    34%  \n",
       "              NetBSD                     0%  \n",
       "              PlayStation                0%  \n",
       "              Tizen                     33%  \n",
       "              Ubuntu                    22%  \n",
       "              Windows                   29%  \n",
       "              Windows Phone              0%  \n",
       "              iOS                        6%  "
      ]
     },
     "execution_count": 33,
     "metadata": {},
     "output_type": "execute_result"
    }
   ],
   "source": [
    "t1 = pd.pivot_table(df, values='timestamp_added_cart', index=['group', 'os'], aggfunc='count')\n",
    "t1.columns=['count_cart']\n",
    "t2 = pd.pivot_table(df, values='anonymous_id', index=['group', 'os'], aggfunc='count')\n",
    "t2.columns=['count_landing']\n",
    "df_conversion = pd.concat([t1, t2], axis=1)\n",
    "df_conversion['conversion'] = df_conversion['count_cart'].values / df_conversion['count_landing'].values\n",
    "df_conversion['conversion_%'] = df_conversion['conversion'].transform(percentage_string)\n",
    "df_conversion"
   ]
  },
  {
   "cell_type": "markdown",
   "id": "hollywood-childhood",
   "metadata": {},
   "source": [
    "### Рассчитаем bounce rate лендинга"
   ]
  },
  {
   "cell_type": "markdown",
   "id": "european-hebrew",
   "metadata": {},
   "source": [
    "Для расчёта bounce rate лендинга необходимо рассчитать перешёл ли пользователь с лендинга на следующую страницу (для каждой группы это разная страница)"
   ]
  },
  {
   "cell_type": "code",
   "execution_count": 34,
   "id": "complimentary-salad",
   "metadata": {},
   "outputs": [],
   "source": [
    "df_mainpage = df_mainpage.sort_values('timestamp').drop_duplicates('anonymous_id')\n",
    "df_adress_change = df_adress_change.sort_values('timestamp').drop_duplicates('anonymous_id')\n",
    "df_delivery_zone = df_delivery_zone.sort_values('timestamp').drop_duplicates('anonymous_id')\n",
    "df_shop_started = df_shop_started.sort_values('timestamp').drop_duplicates('anonymous_id')\n",
    "df_shop_selected = df_shop_selected.sort_values('timestamp').drop_duplicates('anonymous_id')\n",
    "df_cart = df_cart.sort_values('timestamp').drop_duplicates('anonymous_id')\n",
    "df_order = df_order.sort_values('timestamp').drop_duplicates('anonymous_id')"
   ]
  },
  {
   "cell_type": "code",
   "execution_count": 35,
   "id": "atlantic-march",
   "metadata": {},
   "outputs": [],
   "source": [
    "df = df.merge(df_mainpage, how='left', on='anonymous_id')\n",
    "df = df.rename(columns={\"timestamp\": \"timestamp_mainpage\"})\n",
    "\n",
    "df = df.merge(df_adress_change, how='left', on='anonymous_id')\n",
    "df = df.rename(columns={\"timestamp\": \"timestamp_address\"})\n",
    "\n",
    "df = df.merge(df_delivery_zone, how='left', on='anonymous_id')\n",
    "df = df.rename(columns={\"timestamp\": \"timestamp_delivery\"})\n",
    "\n",
    "df = df.merge(df_shop_started, how='left', on='anonymous_id')\n",
    "df = df.rename(columns={\"timestamp\": \"timestamp_shop_started\"})\n",
    "\n",
    "df = df.merge(df_shop_selected, how='left', on='anonymous_id')\n",
    "df = df.rename(columns={\"timestamp\": \"timestamp_shop_selected\"})\n",
    "\n",
    "df = df.merge(df_cart, how='left', on='anonymous_id')\n",
    "df = df.rename(columns={\"timestamp\": \"timestamp_cart\"})\n",
    "\n",
    "df = df.merge(df_order, how='left', on='anonymous_id')\n",
    "df = df.rename(columns={\"timestamp\": \"timestamp_order\"})"
   ]
  },
  {
   "cell_type": "code",
   "execution_count": 36,
   "id": "french-labor",
   "metadata": {},
   "outputs": [],
   "source": [
    "df_default = df[df['group']=='default']\n",
    "df_address = df[df['group']=='address_first']"
   ]
  },
  {
   "cell_type": "code",
   "execution_count": 37,
   "id": "floating-poultry",
   "metadata": {},
   "outputs": [
    {
     "data": {
      "text/html": [
       "<div>\n",
       "<style scoped>\n",
       "    .dataframe tbody tr th:only-of-type {\n",
       "        vertical-align: middle;\n",
       "    }\n",
       "\n",
       "    .dataframe tbody tr th {\n",
       "        vertical-align: top;\n",
       "    }\n",
       "\n",
       "    .dataframe thead th {\n",
       "        text-align: right;\n",
       "    }\n",
       "</style>\n",
       "<table border=\"1\" class=\"dataframe\">\n",
       "  <thead>\n",
       "    <tr style=\"text-align: right;\">\n",
       "      <th></th>\n",
       "      <th>count_maipage</th>\n",
       "      <th>count_landing</th>\n",
       "      <th>rate</th>\n",
       "      <th>rate_%</th>\n",
       "    </tr>\n",
       "    <tr>\n",
       "      <th>group</th>\n",
       "      <th></th>\n",
       "      <th></th>\n",
       "      <th></th>\n",
       "      <th></th>\n",
       "    </tr>\n",
       "  </thead>\n",
       "  <tbody>\n",
       "    <tr>\n",
       "      <th>default</th>\n",
       "      <td>84127</td>\n",
       "      <td>184510</td>\n",
       "      <td>0.455948</td>\n",
       "      <td>46%</td>\n",
       "    </tr>\n",
       "  </tbody>\n",
       "</table>\n",
       "</div>"
      ],
      "text/plain": [
       "         count_maipage  count_landing      rate rate_%\n",
       "group                                                 \n",
       "default          84127         184510  0.455948    46%"
      ]
     },
     "execution_count": 37,
     "metadata": {},
     "output_type": "execute_result"
    }
   ],
   "source": [
    "t1 = pd.pivot_table(df_default, values='timestamp_mainpage', index=['group'], aggfunc='count')\n",
    "t1.columns=['count_maipage']\n",
    "t2 = pd.pivot_table(df_default, values='anonymous_id', index=['group'], aggfunc='count')\n",
    "t2.columns=['count_landing']\n",
    "df_bounce = pd.concat([t1, t2], axis=1)\n",
    "df_bounce['rate'] = df_bounce['count_maipage'].values / df_bounce['count_landing'].values\n",
    "df_bounce['rate_%'] = df_bounce['rate'].transform(percentage_string)\n",
    "df_bounce"
   ]
  },
  {
   "cell_type": "code",
   "execution_count": 38,
   "id": "plastic-branch",
   "metadata": {},
   "outputs": [
    {
     "data": {
      "text/html": [
       "<div>\n",
       "<style scoped>\n",
       "    .dataframe tbody tr th:only-of-type {\n",
       "        vertical-align: middle;\n",
       "    }\n",
       "\n",
       "    .dataframe tbody tr th {\n",
       "        vertical-align: top;\n",
       "    }\n",
       "\n",
       "    .dataframe thead th {\n",
       "        text-align: right;\n",
       "    }\n",
       "</style>\n",
       "<table border=\"1\" class=\"dataframe\">\n",
       "  <thead>\n",
       "    <tr style=\"text-align: right;\">\n",
       "      <th></th>\n",
       "      <th>count_address</th>\n",
       "      <th>count_landing</th>\n",
       "      <th>rate</th>\n",
       "      <th>rate_%</th>\n",
       "    </tr>\n",
       "    <tr>\n",
       "      <th>group</th>\n",
       "      <th></th>\n",
       "      <th></th>\n",
       "      <th></th>\n",
       "      <th></th>\n",
       "    </tr>\n",
       "  </thead>\n",
       "  <tbody>\n",
       "    <tr>\n",
       "      <th>address_first</th>\n",
       "      <td>9165</td>\n",
       "      <td>23234</td>\n",
       "      <td>0.394465</td>\n",
       "      <td>39%</td>\n",
       "    </tr>\n",
       "  </tbody>\n",
       "</table>\n",
       "</div>"
      ],
      "text/plain": [
       "               count_address  count_landing      rate rate_%\n",
       "group                                                       \n",
       "address_first           9165          23234  0.394465    39%"
      ]
     },
     "execution_count": 38,
     "metadata": {},
     "output_type": "execute_result"
    }
   ],
   "source": [
    "t1 = pd.pivot_table(df_address, values='timestamp_address', index=['group'], aggfunc='count')\n",
    "t1.columns=['count_address']\n",
    "t2 = pd.pivot_table(df_address, values='anonymous_id', index=['group'], aggfunc='count')\n",
    "t2.columns=['count_landing']\n",
    "df_bounce = pd.concat([t1, t2], axis=1)\n",
    "df_bounce['rate'] = df_bounce['count_address'].values / df_bounce['count_landing'].values\n",
    "df_bounce['rate_%'] = df_bounce['rate'].transform(percentage_string)\n",
    "df_bounce"
   ]
  },
  {
   "cell_type": "markdown",
   "id": "cheap-dating",
   "metadata": {},
   "source": [
    "**Bounce rate дефолтного лендинга 46%, а лендинга с вводом адреса в начале 39%**"
   ]
  },
  {
   "cell_type": "markdown",
   "id": "increasing-costume",
   "metadata": {},
   "source": [
    "При значении статистической значимости в 0.05 с высокой вероятностью bounce rate нового лендинга ниже, чем старый (p < 0.001)\n",
    "<img src=\"pics/bounce_rate_significance.png\">"
   ]
  },
  {
   "cell_type": "markdown",
   "id": "ordered-pizza",
   "metadata": {},
   "source": [
    "<a id=\"experiment\"></a>\n",
    "## 5. Диагностика дизайна эксперимента"
   ]
  },
  {
   "cell_type": "markdown",
   "id": "boxed-northeast",
   "metadata": {},
   "source": [
    "В дизайне эксперимента не учтено, что пользователь зарегистрирован, уже ввёл адрес и не заходил на страницу лендинга.\n",
    "Пользователей с уже введённым адресом необходимо не учитывать в эксперименте."
   ]
  },
  {
   "cell_type": "markdown",
   "id": "intellectual-architect",
   "metadata": {},
   "source": [
    "<a id=\"conclusion\"></a>\n",
    "## 6. Выводы"
   ]
  },
  {
   "cell_type": "markdown",
   "id": "known-tobacco",
   "metadata": {},
   "source": [
    "- выявлена аномалия в различии в числе заходов пользователей на лендинг в течении дня\n",
    "- **56%** всех пользователей не бывали на странице лендинга\n",
    "- группы A/B тестирования несбалансированы (89% `default` и 11% `address_first`)\n",
    "- более **98%** пользователей использовали ПК или смартфон\n",
    "- с высокой вероятностью конверсия нового лендинга выше, чем старого (**15.13%** и **12.86%** соответственно)\n",
    "- с высокой вероятностью bounce rate нового лендинга ниже, чем старого (**39.44%** и **45.59%** соответственно)"
   ]
  }
 ],
 "metadata": {
  "kernelspec": {
   "display_name": "Python 3",
   "language": "python",
   "name": "python3"
  },
  "language_info": {
   "codemirror_mode": {
    "name": "ipython",
    "version": 3
   },
   "file_extension": ".py",
   "mimetype": "text/x-python",
   "name": "python",
   "nbconvert_exporter": "python",
   "pygments_lexer": "ipython3",
   "version": "3.8.8"
  }
 },
 "nbformat": 4,
 "nbformat_minor": 5
}
